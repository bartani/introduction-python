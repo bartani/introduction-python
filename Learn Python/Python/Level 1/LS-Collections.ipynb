{
 "cells": [
  {
   "cell_type": "markdown",
   "metadata": {},
   "source": [
    "<div class=\"alert alert-success\">\n",
    "    <h1 align=\"center\">Python Collections</h1>\n",
    "    <h5 align=\"center\">Ako Bartani</h5>\n",
    "</div>\n",
    "\n",
    "# Arrays\n",
    "There are four collection data types in the Python programming language:\n",
    "\n",
    "<ul>\n",
    "    <li><strong style=\"color:blue\">List</strong>  is a collection which is ordered and changeable. Allows duplicate members.</li>\n",
    "    <li><strong style=\"color:blue\">Tuple</strong> is a collection which is ordered and unchangeable. Allows duplicate members.</li>\n",
    "    <li><strong style=\"color:blue\">Set</strong> is a collection which is unordered and unindexed. No duplicate members.</li>\n",
    "    <li><strong style=\"color:blue\">Dictionary</strong> is a collection which is unordered, changeable and indexed. No duplicate members.</li>\n",
    "</ul>\n"
   ]
  },
  {
   "cell_type": "markdown",
   "metadata": {},
   "source": [
    "<h2 style=\"color:blue\">1. List</h2>"
   ]
  },
  {
   "cell_type": "code",
   "execution_count": 1,
   "metadata": {},
   "outputs": [
    {
     "name": "stdout",
     "output_type": "stream",
     "text": [
      "list items: ['dog', 'cat', 'horse']\n",
      "the second item of the list: cat\n",
      "horse cat\n"
     ]
    }
   ],
   "source": [
    "# Create a List\n",
    "lst_animal = [\"dog\", \"cat\", \"horse\"]\n",
    "print('list items:',lst_animal)\n",
    "\n",
    "# Print the second item of the list\n",
    "print('the second item of the list:',lst_animal[1])\n",
    "\n",
    "#Print the last item of the list\n",
    "print(lst_animal[-1], lst_animal[-2])"
   ]
  },
  {
   "cell_type": "markdown",
   "metadata": {},
   "source": [
    "<h4>Range of Indexes</h4>"
   ]
  },
  {
   "cell_type": "code",
   "execution_count": 2,
   "metadata": {},
   "outputs": [
    {
     "name": "stdout",
     "output_type": "stream",
     "text": [
      "['cherry', 'orange', 'kiwi']\n",
      "['apple', 'banana', 'cherry', 'orange']\n",
      "['cherry', 'orange', 'kiwi', 'melon', 'mango']\n",
      "['orange', 'kiwi', 'melon']\n"
     ]
    }
   ],
   "source": [
    "# Remember that the first item has index 0.\n",
    "# Return the third, fourth, and fifth item\n",
    "lst_fruit = [\"apple\", \"banana\", \"cherry\", \"orange\", \"kiwi\", \"melon\", \"mango\"]\n",
    "print(lst_fruit[2:5])\n",
    "\n",
    "# This example returns the items from the beginning to \"orange\"\n",
    "print(lst_fruit[:4])\n",
    "\n",
    "# This example returns the items from \"cherry\" and to the end\n",
    "print(lst_fruit[2:])\n",
    "\n",
    "#This example returns the items from index -4 (included) to index -1 (excluded)\n",
    "print(lst_fruit[-4:-1])"
   ]
  },
  {
   "cell_type": "markdown",
   "metadata": {},
   "source": [
    "<strong>Change Item Value</strong>"
   ]
  },
  {
   "cell_type": "code",
   "execution_count": 3,
   "metadata": {},
   "outputs": [
    {
     "name": "stdout",
     "output_type": "stream",
     "text": [
      "['dog', 'elephant', 'horse']\n"
     ]
    }
   ],
   "source": [
    "lst_animal[1] = \"elephant\"\n",
    "print(lst_animal)"
   ]
  },
  {
   "cell_type": "markdown",
   "metadata": {},
   "source": [
    "<strong>Loop Through a List</strong>"
   ]
  },
  {
   "cell_type": "code",
   "execution_count": 4,
   "metadata": {},
   "outputs": [
    {
     "name": "stdout",
     "output_type": "stream",
     "text": [
      "dog\n",
      "elephant\n",
      "horse\n"
     ]
    }
   ],
   "source": [
    "for x in lst_animal:\n",
    "  print(x)"
   ]
  },
  {
   "cell_type": "markdown",
   "metadata": {},
   "source": [
    "<strong>Check if Item Exists</strong>"
   ]
  },
  {
   "cell_type": "code",
   "execution_count": 5,
   "metadata": {},
   "outputs": [
    {
     "data": {
      "text/plain": [
       "True"
      ]
     },
     "execution_count": 5,
     "metadata": {},
     "output_type": "execute_result"
    }
   ],
   "source": [
    "\"apple\" in lst_fruit"
   ]
  },
  {
   "cell_type": "markdown",
   "metadata": {},
   "source": [
    "<strong>List Function</strong>\n",
    "\n",
    "Lenght list and Insert new item to list"
   ]
  },
  {
   "cell_type": "code",
   "execution_count": 6,
   "metadata": {},
   "outputs": [
    {
     "name": "stdout",
     "output_type": "stream",
     "text": [
      "lenght animal list: 3\n",
      "fruit list: ['apple', 'orange', 'banana', 'cherry', 'orange', 'kiwi', 'melon', 'mango']\n"
     ]
    }
   ],
   "source": [
    "print('lenght animal list:',len(lst_animal))  #Print the number of items in the list\n",
    "\n",
    "lst_fruit.insert(1, \"orange\")   #Insert an item as the second position\n",
    "print('fruit list:',lst_fruit)\n"
   ]
  },
  {
   "cell_type": "markdown",
   "metadata": {},
   "source": [
    "<strong>Remove Item</strong>\n",
    "\n",
    "several methods to remove items from a list:"
   ]
  },
  {
   "cell_type": "code",
   "execution_count": 11,
   "metadata": {},
   "outputs": [
    {
     "name": "stdout",
     "output_type": "stream",
     "text": [
      "[]\n"
     ]
    }
   ],
   "source": [
    "lst_pName = [\"ali\", \"ahmad\", \"karim\", \"saman\", \"hosain\"]\n",
    "\n",
    "#lst_pName.remove(\"karim\")\n",
    "#lst_pName.pop()\n",
    "#del lst_pName[0]\n",
    "#del lst_pName\n",
    "lst_pName.clear()\n",
    "\n",
    "print(lst_pName)"
   ]
  },
  {
   "cell_type": "markdown",
   "metadata": {},
   "source": [
    "<strong>Copy a List</strong>\n",
    "\n",
    "<p>You cannot copy a list simply by typing list2 = list1, because: list2 will only be a reference to list1, and changes made in list1 will automatically also be made in list2.</p>"
   ]
  },
  {
   "cell_type": "code",
   "execution_count": 12,
   "metadata": {},
   "outputs": [
    {
     "name": "stdout",
     "output_type": "stream",
     "text": [
      "['dog', 'elephant', 'horse']\n"
     ]
    }
   ],
   "source": [
    "mylist = lst_animal.copy()\n",
    "print(mylist)"
   ]
  },
  {
   "cell_type": "code",
   "execution_count": 13,
   "metadata": {},
   "outputs": [
    {
     "name": "stdout",
     "output_type": "stream",
     "text": [
      "['dog', 'elephant', 'horse']\n"
     ]
    }
   ],
   "source": [
    "mylist = list(lst_animal)\n",
    "print(mylist)"
   ]
  },
  {
   "cell_type": "markdown",
   "metadata": {},
   "source": [
    "<strong>Join Two Lists</strong>"
   ]
  },
  {
   "cell_type": "code",
   "execution_count": 14,
   "metadata": {},
   "outputs": [
    {
     "name": "stdout",
     "output_type": "stream",
     "text": [
      "['a', 'b', 'c', 1, 2, 3]\n"
     ]
    }
   ],
   "source": [
    "list1 = [\"a\", \"b\" , \"c\"]\n",
    "list2 = [1, 2, 3]\n",
    "\n",
    "list3 = list1 + list2\n",
    "print(list3)"
   ]
  },
  {
   "cell_type": "code",
   "execution_count": 15,
   "metadata": {},
   "outputs": [
    {
     "name": "stdout",
     "output_type": "stream",
     "text": [
      "['a', 'b', 'c', 1, 2, 3]\n"
     ]
    }
   ],
   "source": [
    "list1 = [\"a\", \"b\" , \"c\"]\n",
    "list2 = [1, 2, 3]\n",
    "\n",
    "for x in list2:\n",
    "  list1.append(x)\n",
    "\n",
    "print(list1)"
   ]
  },
  {
   "cell_type": "code",
   "execution_count": 16,
   "metadata": {},
   "outputs": [
    {
     "name": "stdout",
     "output_type": "stream",
     "text": [
      "['a', 'b', 'c', 1, 2, 3]\n"
     ]
    }
   ],
   "source": [
    "list1 = [\"a\", \"b\" , \"c\"]\n",
    "list2 = [1, 2, 3]\n",
    "\n",
    "list1.extend(list2)\n",
    "print(list1)"
   ]
  },
  {
   "cell_type": "markdown",
   "metadata": {},
   "source": [
    "<h2 style=\"color:blue\">2. Tuple</h2>\n",
    "\n",
    "<p>A tuple is a collection which is ordered and unchangeable. In Python tuples are written with round brackets.</p>"
   ]
  },
  {
   "cell_type": "code",
   "execution_count": 18,
   "metadata": {},
   "outputs": [
    {
     "name": "stdout",
     "output_type": "stream",
     "text": [
      "('dog', 'cat', 'horse')\n",
      "<class 'tuple'>\n"
     ]
    }
   ],
   "source": [
    "# Create a Tuple\n",
    "tpl_animal = (\"dog\", \"cat\", \"horse\")\n",
    "print(tpl_animal)\n",
    "print(type(tpl_animal))"
   ]
  },
  {
   "cell_type": "code",
   "execution_count": 19,
   "metadata": {},
   "outputs": [
    {
     "name": "stdout",
     "output_type": "stream",
     "text": [
      "cat\n",
      "horse\n",
      "('cat', 'horse')\n",
      "('dog',)\n"
     ]
    }
   ],
   "source": [
    "# Access Tuple Items\n",
    "print(tpl_animal[1])\n",
    "\n",
    "# Negative Indexing\n",
    "print(tpl_animal[-1])\n",
    "\n",
    "# Range of Indexes\n",
    "print(tpl_animal[1:])\n",
    "\n",
    "# Range of Negative Indexes\n",
    "print(tpl_animal[-3:-2]) "
   ]
  },
  {
   "cell_type": "markdown",
   "metadata": {},
   "source": [
    "<strong>Change Tuple Values</strong>\n",
    "\n",
    "   Once a tuple is created, you cannot change its values. Tuples are <b>unchangeable</b>, or <b>immutable</b> as it also is called. But there is a workaround. You can convert the tuple into a list, change the list, and convert the list back into a tuple."
   ]
  },
  {
   "cell_type": "code",
   "execution_count": 20,
   "metadata": {},
   "outputs": [
    {
     "name": "stdout",
     "output_type": "stream",
     "text": [
      "('dog', 'elephant', 'horse')\n"
     ]
    }
   ],
   "source": [
    "y = list(tpl_animal)\n",
    "y[1] = \"elephant\"\n",
    "x = tuple(y)\n",
    "\n",
    "print(x)"
   ]
  },
  {
   "cell_type": "markdown",
   "metadata": {},
   "source": [
    "<h4>Loop Through a Tuple</h4>"
   ]
  },
  {
   "cell_type": "code",
   "execution_count": 21,
   "metadata": {},
   "outputs": [
    {
     "name": "stdout",
     "output_type": "stream",
     "text": [
      "dog\n",
      "cat\n",
      "horse\n"
     ]
    }
   ],
   "source": [
    "for x in tpl_animal:\n",
    "  print(x)"
   ]
  },
  {
   "cell_type": "markdown",
   "metadata": {},
   "source": [
    "<h4>Check if Item Exists</h4>"
   ]
  },
  {
   "cell_type": "code",
   "execution_count": 24,
   "metadata": {},
   "outputs": [
    {
     "name": "stdout",
     "output_type": "stream",
     "text": [
      "Yes, 'cat' is in the animal tuple\n"
     ]
    }
   ],
   "source": [
    "if \"cat\" in tpl_animal:\n",
    "  print(\"Yes, 'cat' is in the animal tuple\")"
   ]
  },
  {
   "cell_type": "code",
   "execution_count": 27,
   "metadata": {},
   "outputs": [
    {
     "name": "stdout",
     "output_type": "stream",
     "text": [
      "3\n"
     ]
    }
   ],
   "source": [
    "# Tuple Length\n",
    "print(len(tpl_animal))\n",
    "\n",
    "# Add Items\n",
    "#tpl_animal[2] = \"horse\" # This will raise an error\n",
    "\n",
    "# Remove Items\n",
    "del tpl_animal #this will raise an error because the tuple no longer exists"
   ]
  },
  {
   "cell_type": "markdown",
   "metadata": {},
   "source": [
    "<h4>Create Tuple With One Item</h4>"
   ]
  },
  {
   "cell_type": "code",
   "execution_count": 28,
   "metadata": {},
   "outputs": [
    {
     "name": "stdout",
     "output_type": "stream",
     "text": [
      "<class 'tuple'>\n",
      "<class 'str'>\n"
     ]
    }
   ],
   "source": [
    "thistuple = (\"apple\",)\n",
    "print(type(thistuple))\n",
    "\n",
    "#NOT a tuple\n",
    "thistuple = (\"apple\")\n",
    "print(type(thistuple))"
   ]
  },
  {
   "cell_type": "markdown",
   "metadata": {},
   "source": [
    "<h4>Join Two Tuples</h4>"
   ]
  },
  {
   "cell_type": "code",
   "execution_count": 29,
   "metadata": {},
   "outputs": [
    {
     "name": "stdout",
     "output_type": "stream",
     "text": [
      "('a', 'b', 'c', 1, 2, 3)\n"
     ]
    }
   ],
   "source": [
    "tuple1 = (\"a\", \"b\" , \"c\")\n",
    "tuple2 = (1, 2, 3)\n",
    "\n",
    "tuple3 = tuple1 + tuple2\n",
    "print(tuple3)"
   ]
  },
  {
   "cell_type": "markdown",
   "metadata": {},
   "source": [
    "<h2 style=\"color:blue\">3. Set</h2>"
   ]
  },
  {
   "cell_type": "code",
   "execution_count": 30,
   "metadata": {},
   "outputs": [
    {
     "name": "stdout",
     "output_type": "stream",
     "text": [
      "{'cat', 'dog', 'horse'}\n"
     ]
    }
   ],
   "source": [
    "# Create a Set\n",
    "set_animal = {\"dog\", \"cat\", \"horse\"}\n",
    "print(set_animal)"
   ]
  },
  {
   "cell_type": "markdown",
   "metadata": {},
   "source": [
    "<h4>Access Items</h4>\n",
    "\n",
    "You cannot access items in a set by referring to an index, since sets are unordered the items has no index.\n",
    "\n",
    "But you can loop through the set items using a for loop, or ask if a specified value is present in a set, by using the in keyword."
   ]
  },
  {
   "cell_type": "code",
   "execution_count": 31,
   "metadata": {},
   "outputs": [
    {
     "name": "stdout",
     "output_type": "stream",
     "text": [
      "cat\n",
      "dog\n",
      "horse\n"
     ]
    }
   ],
   "source": [
    "for x in set_animal:\n",
    "  print(x)"
   ]
  },
  {
   "cell_type": "code",
   "execution_count": 33,
   "metadata": {},
   "outputs": [
    {
     "name": "stdout",
     "output_type": "stream",
     "text": [
      "True\n"
     ]
    }
   ],
   "source": [
    "# Check if \"cat\" is present in the set\n",
    "print(\"cat\" in set_animal)"
   ]
  },
  {
   "cell_type": "markdown",
   "metadata": {},
   "source": [
    "<div style=\"color: red;font-size: 20px\">Once a set is created, you cannot change its items, but you can add new items.</div>\n",
    "\n",
    "<h4>Add Items</h4>\n",
    "\n",
    "To add one item to a set use the <b>add()</b> method.\n",
    "\n",
    "To add more than one item to a set use the <b>update()</b> method."
   ]
  },
  {
   "cell_type": "code",
   "execution_count": 34,
   "metadata": {},
   "outputs": [
    {
     "name": "stdout",
     "output_type": "stream",
     "text": [
      "{'cat', 'dog', 'horse', 'elephant'}\n"
     ]
    }
   ],
   "source": [
    "set_animal.add(\"elephant\")\n",
    "print(set_animal)"
   ]
  },
  {
   "cell_type": "code",
   "execution_count": 35,
   "metadata": {},
   "outputs": [
    {
     "name": "stdout",
     "output_type": "stream",
     "text": [
      "{'orange', 'cat', 'mango', 'dog', 'grapes', 'elephant', 'horse'}\n",
      "Length of a Set: 7\n"
     ]
    }
   ],
   "source": [
    "set_animal.update([\"orange\", \"mango\", \"grapes\"])\n",
    "\n",
    "print(set_animal)\n",
    "\n",
    "# Get the Length of a Set\n",
    "print(\"Length of a Set:\",len(set_animal))"
   ]
  },
  {
   "cell_type": "markdown",
   "metadata": {},
   "source": [
    "<h4>Remove Item</h4>\n",
    "\n",
    "To remove an item in a set, use the <b>remove()</b>, or the <b>discard()</b> method."
   ]
  },
  {
   "cell_type": "code",
   "execution_count": 38,
   "metadata": {},
   "outputs": [
    {
     "name": "stdout",
     "output_type": "stream",
     "text": [
      "{'orange', 'cat', 'dog', 'grapes', 'elephant', 'horse'}\n"
     ]
    }
   ],
   "source": [
    "# If the item to remove does not exist, remove() will raise an error.\n",
    "#set_animal.remove(\"mango\")\n",
    "#print(set_animal)\n",
    "\n",
    "# If the item to remove does not exist, discard() will NOT raise an error.\n",
    "set_animal.discard(\"banana\")\n",
    "print(set_animal)"
   ]
  },
  {
   "cell_type": "code",
   "execution_count": 39,
   "metadata": {},
   "outputs": [
    {
     "name": "stdout",
     "output_type": "stream",
     "text": [
      "orange\n",
      "{'cat', 'dog', 'grapes', 'elephant', 'horse'}\n"
     ]
    }
   ],
   "source": [
    "# Remove the last item by using the pop() method\n",
    "x = set_animal.pop()\n",
    "print(x)\n",
    "print(set_animal)"
   ]
  },
  {
   "cell_type": "code",
   "execution_count": 40,
   "metadata": {},
   "outputs": [
    {
     "name": "stdout",
     "output_type": "stream",
     "text": [
      "set()\n"
     ]
    }
   ],
   "source": [
    "# The clear() method empties the set\n",
    "set_animal.clear()\n",
    "print(set_animal)\n",
    "#The del keyword will delete the set completely"
   ]
  },
  {
   "cell_type": "markdown",
   "metadata": {},
   "source": [
    "<h4>Join Two Sets</h4>"
   ]
  },
  {
   "cell_type": "code",
   "execution_count": 43,
   "metadata": {},
   "outputs": [
    {
     "name": "stdout",
     "output_type": "stream",
     "text": [
      "{1, 2, 'c', 3, 'a', 'b'}\n"
     ]
    }
   ],
   "source": [
    "# The union() method returns a new set with all items from both sets\n",
    "set1 = {\"a\", \"b\" , \"c\"}\n",
    "set2 = {1, 2, 3}\n",
    "\n",
    "set3 = set1.union(set2)\n",
    "print(set3)"
   ]
  },
  {
   "cell_type": "code",
   "execution_count": 44,
   "metadata": {},
   "outputs": [
    {
     "name": "stdout",
     "output_type": "stream",
     "text": [
      "{1, 2, 'c', 3, 'a', 'b'}\n"
     ]
    }
   ],
   "source": [
    "# The update() method inserts the items in set2 into set1\n",
    "set1 = {\"a\", \"b\" , \"c\"}\n",
    "set2 = {1, 2, 3}\n",
    "\n",
    "set1.update(set2)\n",
    "print(set1)"
   ]
  },
  {
   "cell_type": "markdown",
   "metadata": {},
   "source": [
    "<h2 style=\"color:blue\">4. Dictionaries</h2>\n",
    "\n",
    "A dictionary is a collection which is unordered, changeable and indexed. In Python dictionaries are written with curly brackets, and they have keys and values."
   ]
  },
  {
   "cell_type": "code",
   "execution_count": 45,
   "metadata": {},
   "outputs": [
    {
     "name": "stdout",
     "output_type": "stream",
     "text": [
      "{'brand': 'Huawai', 'model': 'p7', 'year': 2016}\n"
     ]
    }
   ],
   "source": [
    "# Create and print a dictionary\n",
    "mydict = {\n",
    "  \"brand\": \"Huawai\",\n",
    "  \"model\": \"p7\",\n",
    "  \"year\": 2016\n",
    "}\n",
    "print(mydict)"
   ]
  },
  {
   "cell_type": "markdown",
   "metadata": {},
   "source": [
    "<h4>Accessing Items</h4>"
   ]
  },
  {
   "cell_type": "code",
   "execution_count": 46,
   "metadata": {},
   "outputs": [
    {
     "name": "stdout",
     "output_type": "stream",
     "text": [
      "p7\n"
     ]
    }
   ],
   "source": [
    "x = mydict[\"model\"]\n",
    "print(x)"
   ]
  },
  {
   "cell_type": "code",
   "execution_count": 47,
   "metadata": {},
   "outputs": [
    {
     "name": "stdout",
     "output_type": "stream",
     "text": [
      "p7\n"
     ]
    }
   ],
   "source": [
    "x = mydict.get(\"model\")\n",
    "print(x)"
   ]
  },
  {
   "cell_type": "code",
   "execution_count": 48,
   "metadata": {},
   "outputs": [],
   "source": [
    "# Change Values\n",
    "mydict[\"year\"] = 2018"
   ]
  },
  {
   "cell_type": "markdown",
   "metadata": {},
   "source": [
    "<h4>Loop Through a Dictionary</h4>"
   ]
  },
  {
   "cell_type": "code",
   "execution_count": 51,
   "metadata": {},
   "outputs": [
    {
     "name": "stdout",
     "output_type": "stream",
     "text": [
      "brand\n",
      "model\n",
      "year\n"
     ]
    }
   ],
   "source": [
    "# Print all key names in the dictionary, one by one\n",
    "for x in mydict:\n",
    "  print(x)"
   ]
  },
  {
   "cell_type": "code",
   "execution_count": 52,
   "metadata": {},
   "outputs": [
    {
     "name": "stdout",
     "output_type": "stream",
     "text": [
      "Huawai\n",
      "p7\n",
      "2018\n"
     ]
    }
   ],
   "source": [
    "# Print all values in the dictionary, one by one\n",
    "for x in mydict:\n",
    "  print(mydict[x])"
   ]
  },
  {
   "cell_type": "code",
   "execution_count": 53,
   "metadata": {},
   "outputs": [
    {
     "name": "stdout",
     "output_type": "stream",
     "text": [
      "Huawai\n",
      "p7\n",
      "2018\n"
     ]
    }
   ],
   "source": [
    "# you can also use the values() function to return values of a dictionary\n",
    "for x in mydict.values():\n",
    "  print(x)"
   ]
  },
  {
   "cell_type": "code",
   "execution_count": 54,
   "metadata": {},
   "outputs": [
    {
     "name": "stdout",
     "output_type": "stream",
     "text": [
      "brand Huawai\n",
      "model p7\n",
      "year 2018\n"
     ]
    }
   ],
   "source": [
    "# Loop through both keys and values, by using the items() function\n",
    "for x, y in mydict.items():\n",
    "  print(x, y)"
   ]
  },
  {
   "cell_type": "code",
   "execution_count": 55,
   "metadata": {},
   "outputs": [
    {
     "name": "stdout",
     "output_type": "stream",
     "text": [
      "Yes, 'model' is one of the keys in the thisdict dictionary\n"
     ]
    }
   ],
   "source": [
    "# Check if \"model\" is present in the dictionary\n",
    "if \"model\" in mydict:\n",
    "  print(\"Yes, 'model' is one of the keys in the thisdict dictionary\")"
   ]
  },
  {
   "cell_type": "code",
   "execution_count": 56,
   "metadata": {},
   "outputs": [
    {
     "name": "stdout",
     "output_type": "stream",
     "text": [
      "3\n"
     ]
    }
   ],
   "source": [
    "# Print the number of items in the dictionary\n",
    "print(len(mydict))"
   ]
  },
  {
   "cell_type": "code",
   "execution_count": 57,
   "metadata": {},
   "outputs": [
    {
     "name": "stdout",
     "output_type": "stream",
     "text": [
      "{'brand': 'Huawai', 'model': 'p7', 'year': 2018, 'color': 'red'}\n"
     ]
    }
   ],
   "source": [
    "# Adding Items\n",
    "mydict[\"color\"] = \"red\"\n",
    "print(mydict)"
   ]
  },
  {
   "cell_type": "markdown",
   "metadata": {},
   "source": [
    "<h4>Removing Items</h4>"
   ]
  },
  {
   "cell_type": "code",
   "execution_count": 58,
   "metadata": {},
   "outputs": [
    {
     "name": "stdout",
     "output_type": "stream",
     "text": [
      "{'brand': 'Huawai', 'year': 2016}\n"
     ]
    }
   ],
   "source": [
    "# The pop() method removes the item with the specified key name\n",
    "mydict = {\n",
    "  \"brand\": \"Huawai\",\n",
    "  \"model\": \"p7\",\n",
    "  \"year\": 2016\n",
    "}\n",
    "mydict.pop(\"model\")\n",
    "print(mydict)"
   ]
  },
  {
   "cell_type": "code",
   "execution_count": 59,
   "metadata": {},
   "outputs": [
    {
     "name": "stdout",
     "output_type": "stream",
     "text": [
      "{'brand': 'Huawai', 'model': 'p7'}\n"
     ]
    }
   ],
   "source": [
    "# The popitem() method removes the last inserted item (in versions before 3.7, a random item is removed instead):\n",
    "mydict = {\n",
    "  \"brand\": \"Huawai\",\n",
    "  \"model\": \"p7\",\n",
    "  \"year\": 2016\n",
    "}\n",
    "mydict.popitem()\n",
    "print(mydict)"
   ]
  },
  {
   "cell_type": "code",
   "execution_count": 60,
   "metadata": {},
   "outputs": [
    {
     "name": "stdout",
     "output_type": "stream",
     "text": [
      "{'brand': 'Huawai', 'year': 2016}\n"
     ]
    }
   ],
   "source": [
    "# The del keyword removes the item with the specified key name:\n",
    "mydict = {\n",
    "  \"brand\": \"Huawai\",\n",
    "  \"model\": \"p7\",\n",
    "  \"year\": 2016\n",
    "}\n",
    "del mydict[\"model\"]\n",
    "print(mydict)"
   ]
  },
  {
   "cell_type": "code",
   "execution_count": 61,
   "metadata": {},
   "outputs": [
    {
     "name": "stdout",
     "output_type": "stream",
     "text": [
      "{}\n"
     ]
    }
   ],
   "source": [
    "# The clear() method empties the dictionary\n",
    "mydict = {\n",
    "  \"brand\": \"Huawai\",\n",
    "  \"model\": \"p7\",\n",
    "  \"year\": 2016\n",
    "}\n",
    "mydict.clear()\n",
    "print(mydict)"
   ]
  },
  {
   "cell_type": "markdown",
   "metadata": {},
   "source": [
    "<h4>Copy a Dictionary</h4>"
   ]
  },
  {
   "cell_type": "code",
   "execution_count": 62,
   "metadata": {},
   "outputs": [
    {
     "name": "stdout",
     "output_type": "stream",
     "text": [
      "{'brand': 'Huawai', 'model': 'p7', 'year': 2016}\n"
     ]
    }
   ],
   "source": [
    "# Make a copy of a dictionary with the copy() method\n",
    "mydict = {\n",
    "  \"brand\": \"Huawai\",\n",
    "  \"model\": \"p7\",\n",
    "  \"year\": 2016\n",
    "}\n",
    "copydict = mydict.copy()\n",
    "print(copydict)"
   ]
  },
  {
   "cell_type": "code",
   "execution_count": 63,
   "metadata": {},
   "outputs": [
    {
     "name": "stdout",
     "output_type": "stream",
     "text": [
      "{'brand': 'Huawai', 'model': 'p7', 'year': 2016}\n"
     ]
    }
   ],
   "source": [
    "# Make a copy of a dictionary with the dict() method\n",
    "mydict = {\n",
    "  \"brand\": \"Huawai\",\n",
    "  \"model\": \"p7\",\n",
    "  \"year\": 2016\n",
    "}\n",
    "copydict = dict(mydict)\n",
    "print(copydict)"
   ]
  },
  {
   "cell_type": "markdown",
   "metadata": {},
   "source": [
    "<h2>End</h2>"
   ]
  }
 ],
 "metadata": {
  "kernelspec": {
   "display_name": "Python 3",
   "language": "python",
   "name": "python3"
  },
  "language_info": {
   "codemirror_mode": {
    "name": "ipython",
    "version": 3
   },
   "file_extension": ".py",
   "mimetype": "text/x-python",
   "name": "python",
   "nbconvert_exporter": "python",
   "pygments_lexer": "ipython3",
   "version": "3.7.6"
  }
 },
 "nbformat": 4,
 "nbformat_minor": 4
}
